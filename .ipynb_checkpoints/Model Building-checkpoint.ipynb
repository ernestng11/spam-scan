{
 "cells": [
  {
   "cell_type": "code",
   "execution_count": 1,
   "metadata": {},
   "outputs": [],
   "source": [
    "import pandas as pd\n",
    "import numpy as np"
   ]
  },
  {
   "cell_type": "code",
   "execution_count": 2,
   "metadata": {},
   "outputs": [],
   "source": [
    "df = pd.read_csv('./model_data.csv').drop(['Unnamed: 0'], axis=1)"
   ]
  },
  {
   "cell_type": "code",
   "execution_count": 3,
   "metadata": {
    "scrolled": false
   },
   "outputs": [
    {
     "data": {
      "text/html": [
       "<div>\n",
       "<style scoped>\n",
       "    .dataframe tbody tr th:only-of-type {\n",
       "        vertical-align: middle;\n",
       "    }\n",
       "\n",
       "    .dataframe tbody tr th {\n",
       "        vertical-align: top;\n",
       "    }\n",
       "\n",
       "    .dataframe thead th {\n",
       "        text-align: right;\n",
       "    }\n",
       "</style>\n",
       "<table border=\"1\" class=\"dataframe\">\n",
       "  <thead>\n",
       "    <tr style=\"text-align: right;\">\n",
       "      <th></th>\n",
       "      <th>label</th>\n",
       "      <th>text</th>\n",
       "      <th>text_clean</th>\n",
       "      <th>text_tokens</th>\n",
       "      <th>text_tokens_lemma</th>\n",
       "      <th>word_count</th>\n",
       "      <th>noun_count</th>\n",
       "      <th>verb_count</th>\n",
       "      <th>adj_count</th>\n",
       "      <th>adv_count</th>\n",
       "      <th>pron_count</th>\n",
       "    </tr>\n",
       "  </thead>\n",
       "  <tbody>\n",
       "    <tr>\n",
       "      <th>0</th>\n",
       "      <td>ham</td>\n",
       "      <td>go jurong point crazy available bugis n great ...</td>\n",
       "      <td>go jurong point crazy available bugis n great ...</td>\n",
       "      <td>['go', 'jurong', 'point', 'crazy', 'available'...</td>\n",
       "      <td>['go', 'jurong', 'point', 'crazy', 'available'...</td>\n",
       "      <td>131</td>\n",
       "      <td>6</td>\n",
       "      <td>3</td>\n",
       "      <td>5</td>\n",
       "      <td>2</td>\n",
       "      <td>0</td>\n",
       "    </tr>\n",
       "    <tr>\n",
       "      <th>1</th>\n",
       "      <td>ham</td>\n",
       "      <td>lar joking wif oni</td>\n",
       "      <td>lar joking wif oni</td>\n",
       "      <td>['lar', 'joking', 'wif', 'oni']</td>\n",
       "      <td>['lar', 'joking', 'wif', 'oni']</td>\n",
       "      <td>31</td>\n",
       "      <td>3</td>\n",
       "      <td>0</td>\n",
       "      <td>1</td>\n",
       "      <td>0</td>\n",
       "      <td>0</td>\n",
       "    </tr>\n",
       "    <tr>\n",
       "      <th>2</th>\n",
       "      <td>spam</td>\n",
       "      <td>free entry wkly comp win fa cup final tkts st ...</td>\n",
       "      <td>free entry wkly comp win fa cup final tkts st ...</td>\n",
       "      <td>['free', 'entry', 'wkly', 'comp', 'win', 'fa',...</td>\n",
       "      <td>['free', 'entry', 'wkly', 'comp', 'win', 'fa',...</td>\n",
       "      <td>167</td>\n",
       "      <td>10</td>\n",
       "      <td>3</td>\n",
       "      <td>5</td>\n",
       "      <td>0</td>\n",
       "      <td>0</td>\n",
       "    </tr>\n",
       "    <tr>\n",
       "      <th>3</th>\n",
       "      <td>ham</td>\n",
       "      <td>dun early hor c already</td>\n",
       "      <td>dun early hor c already</td>\n",
       "      <td>['dun', 'early', 'hor', 'c', 'already']</td>\n",
       "      <td>['dun', 'early', 'hor', 'c', 'already']</td>\n",
       "      <td>39</td>\n",
       "      <td>2</td>\n",
       "      <td>0</td>\n",
       "      <td>1</td>\n",
       "      <td>2</td>\n",
       "      <td>0</td>\n",
       "    </tr>\n",
       "    <tr>\n",
       "      <th>4</th>\n",
       "      <td>ham</td>\n",
       "      <td>nah dont think go usf life around though</td>\n",
       "      <td>nah dont think goes usf lives around though</td>\n",
       "      <td>['nah', 'dont', 'think', 'goes', 'usf', 'lives...</td>\n",
       "      <td>['nah', 'dont', 'think', 'go', 'usf', 'life', ...</td>\n",
       "      <td>65</td>\n",
       "      <td>2</td>\n",
       "      <td>2</td>\n",
       "      <td>2</td>\n",
       "      <td>0</td>\n",
       "      <td>0</td>\n",
       "    </tr>\n",
       "    <tr>\n",
       "      <th>...</th>\n",
       "      <td>...</td>\n",
       "      <td>...</td>\n",
       "      <td>...</td>\n",
       "      <td>...</td>\n",
       "      <td>...</td>\n",
       "      <td>...</td>\n",
       "      <td>...</td>\n",
       "      <td>...</td>\n",
       "      <td>...</td>\n",
       "      <td>...</td>\n",
       "      <td>...</td>\n",
       "    </tr>\n",
       "    <tr>\n",
       "      <th>5567</th>\n",
       "      <td>spam</td>\n",
       "      <td>nd time tried contact pound prize claim easy c...</td>\n",
       "      <td>nd time tried contact pound prize claim easy c...</td>\n",
       "      <td>['nd', 'time', 'tried', 'contact', 'pound', 'p...</td>\n",
       "      <td>['nd', 'time', 'tried', 'contact', 'pound', 'p...</td>\n",
       "      <td>117</td>\n",
       "      <td>8</td>\n",
       "      <td>1</td>\n",
       "      <td>3</td>\n",
       "      <td>0</td>\n",
       "      <td>0</td>\n",
       "    </tr>\n",
       "    <tr>\n",
       "      <th>5568</th>\n",
       "      <td>ham</td>\n",
       "      <td>b going esplanade fr home</td>\n",
       "      <td>b going esplanade fr home</td>\n",
       "      <td>['b', 'going', 'esplanade', 'fr', 'home']</td>\n",
       "      <td>['b', 'going', 'esplanade', 'fr', 'home']</td>\n",
       "      <td>41</td>\n",
       "      <td>3</td>\n",
       "      <td>1</td>\n",
       "      <td>1</td>\n",
       "      <td>0</td>\n",
       "      <td>0</td>\n",
       "    </tr>\n",
       "    <tr>\n",
       "      <th>5569</th>\n",
       "      <td>ham</td>\n",
       "      <td>pity mood soany suggestion</td>\n",
       "      <td>pity mood soany suggestions</td>\n",
       "      <td>['pity', 'mood', 'soany', 'suggestions']</td>\n",
       "      <td>['pity', 'mood', 'soany', 'suggestion']</td>\n",
       "      <td>39</td>\n",
       "      <td>3</td>\n",
       "      <td>0</td>\n",
       "      <td>1</td>\n",
       "      <td>0</td>\n",
       "      <td>0</td>\n",
       "    </tr>\n",
       "    <tr>\n",
       "      <th>5570</th>\n",
       "      <td>ham</td>\n",
       "      <td>guy bitching acted like id interested buying s...</td>\n",
       "      <td>guy bitching acted like id interested buying s...</td>\n",
       "      <td>['guy', 'bitching', 'acted', 'like', 'id', 'in...</td>\n",
       "      <td>['guy', 'bitching', 'acted', 'like', 'id', 'in...</td>\n",
       "      <td>124</td>\n",
       "      <td>5</td>\n",
       "      <td>3</td>\n",
       "      <td>4</td>\n",
       "      <td>1</td>\n",
       "      <td>0</td>\n",
       "    </tr>\n",
       "    <tr>\n",
       "      <th>5571</th>\n",
       "      <td>ham</td>\n",
       "      <td>rofl true name</td>\n",
       "      <td>rofl true name</td>\n",
       "      <td>['rofl', 'true', 'name']</td>\n",
       "      <td>['rofl', 'true', 'name']</td>\n",
       "      <td>24</td>\n",
       "      <td>2</td>\n",
       "      <td>0</td>\n",
       "      <td>1</td>\n",
       "      <td>0</td>\n",
       "      <td>0</td>\n",
       "    </tr>\n",
       "  </tbody>\n",
       "</table>\n",
       "<p>5572 rows × 11 columns</p>\n",
       "</div>"
      ],
      "text/plain": [
       "     label                                               text  \\\n",
       "0      ham  go jurong point crazy available bugis n great ...   \n",
       "1      ham                                 lar joking wif oni   \n",
       "2     spam  free entry wkly comp win fa cup final tkts st ...   \n",
       "3      ham                            dun early hor c already   \n",
       "4      ham           nah dont think go usf life around though   \n",
       "...    ...                                                ...   \n",
       "5567  spam  nd time tried contact pound prize claim easy c...   \n",
       "5568   ham                          b going esplanade fr home   \n",
       "5569   ham                         pity mood soany suggestion   \n",
       "5570   ham  guy bitching acted like id interested buying s...   \n",
       "5571   ham                                     rofl true name   \n",
       "\n",
       "                                             text_clean  \\\n",
       "0     go jurong point crazy available bugis n great ...   \n",
       "1                                    lar joking wif oni   \n",
       "2     free entry wkly comp win fa cup final tkts st ...   \n",
       "3                               dun early hor c already   \n",
       "4           nah dont think goes usf lives around though   \n",
       "...                                                 ...   \n",
       "5567  nd time tried contact pound prize claim easy c...   \n",
       "5568                          b going esplanade fr home   \n",
       "5569                        pity mood soany suggestions   \n",
       "5570  guy bitching acted like id interested buying s...   \n",
       "5571                                     rofl true name   \n",
       "\n",
       "                                            text_tokens  \\\n",
       "0     ['go', 'jurong', 'point', 'crazy', 'available'...   \n",
       "1                       ['lar', 'joking', 'wif', 'oni']   \n",
       "2     ['free', 'entry', 'wkly', 'comp', 'win', 'fa',...   \n",
       "3               ['dun', 'early', 'hor', 'c', 'already']   \n",
       "4     ['nah', 'dont', 'think', 'goes', 'usf', 'lives...   \n",
       "...                                                 ...   \n",
       "5567  ['nd', 'time', 'tried', 'contact', 'pound', 'p...   \n",
       "5568          ['b', 'going', 'esplanade', 'fr', 'home']   \n",
       "5569           ['pity', 'mood', 'soany', 'suggestions']   \n",
       "5570  ['guy', 'bitching', 'acted', 'like', 'id', 'in...   \n",
       "5571                           ['rofl', 'true', 'name']   \n",
       "\n",
       "                                      text_tokens_lemma  word_count  \\\n",
       "0     ['go', 'jurong', 'point', 'crazy', 'available'...         131   \n",
       "1                       ['lar', 'joking', 'wif', 'oni']          31   \n",
       "2     ['free', 'entry', 'wkly', 'comp', 'win', 'fa',...         167   \n",
       "3               ['dun', 'early', 'hor', 'c', 'already']          39   \n",
       "4     ['nah', 'dont', 'think', 'go', 'usf', 'life', ...          65   \n",
       "...                                                 ...         ...   \n",
       "5567  ['nd', 'time', 'tried', 'contact', 'pound', 'p...         117   \n",
       "5568          ['b', 'going', 'esplanade', 'fr', 'home']          41   \n",
       "5569            ['pity', 'mood', 'soany', 'suggestion']          39   \n",
       "5570  ['guy', 'bitching', 'acted', 'like', 'id', 'in...         124   \n",
       "5571                           ['rofl', 'true', 'name']          24   \n",
       "\n",
       "      noun_count  verb_count  adj_count  adv_count  pron_count  \n",
       "0              6           3          5          2           0  \n",
       "1              3           0          1          0           0  \n",
       "2             10           3          5          0           0  \n",
       "3              2           0          1          2           0  \n",
       "4              2           2          2          0           0  \n",
       "...          ...         ...        ...        ...         ...  \n",
       "5567           8           1          3          0           0  \n",
       "5568           3           1          1          0           0  \n",
       "5569           3           0          1          0           0  \n",
       "5570           5           3          4          1           0  \n",
       "5571           2           0          1          0           0  \n",
       "\n",
       "[5572 rows x 11 columns]"
      ]
     },
     "execution_count": 3,
     "metadata": {},
     "output_type": "execute_result"
    }
   ],
   "source": [
    "df"
   ]
  },
  {
   "cell_type": "code",
   "execution_count": 4,
   "metadata": {},
   "outputs": [
    {
     "data": {
      "text/plain": [
       "Index(['label', 'text', 'text_clean', 'text_tokens', 'text_tokens_lemma',\n",
       "       'word_count', 'noun_count', 'verb_count', 'adj_count', 'adv_count',\n",
       "       'pron_count'],\n",
       "      dtype='object')"
      ]
     },
     "execution_count": 4,
     "metadata": {},
     "output_type": "execute_result"
    }
   ],
   "source": [
    "df.columns"
   ]
  },
  {
   "cell_type": "code",
   "execution_count": 5,
   "metadata": {
    "scrolled": false
   },
   "outputs": [
    {
     "name": "stdout",
     "output_type": "stream",
     "text": [
      "Plot for WORD_COUNT: total counts = 258\n"
     ]
    },
    {
     "data": {
      "image/png": "[encoded data removed]",
      "text/plain": [
       "<Figure size 720x360 with 1 Axes>"
      ]
     },
     "metadata": {
      "needs_background": "light"
     },
     "output_type": "display_data"
    },
    {
     "name": "stdout",
     "output_type": "stream",
     "text": [
      "Plot for NOUN_COUNT: total counts = 31\n"
     ]
    },
    {
     "data": {
      "image/png": "[encoded data removed]",
      "text/plain": [
       "<Figure size 720x360 with 1 Axes>"
      ]
     },
     "metadata": {
      "needs_background": "light"
     },
     "output_type": "display_data"
    },
    {
     "name": "stdout",
     "output_type": "stream",
     "text": [
      "Plot for VERB_COUNT: total counts = 17\n"
     ]
    },
    {
     "data": {
      "image/png": "[encoded data removed]",
      "text/plain": [
       "<Figure size 720x360 with 1 Axes>"
      ]
     },
     "metadata": {
      "needs_background": "light"
     },
     "output_type": "display_data"
    },
    {
     "name": "stdout",
     "output_type": "stream",
     "text": [
      "Plot for ADJ_COUNT: total counts = 18\n"
     ]
    },
    {
     "data": {
      "image/png": "[encoded data removed]",
      "text/plain": [
       "<Figure size 720x360 with 1 Axes>"
      ]
     },
     "metadata": {
      "needs_background": "light"
     },
     "output_type": "display_data"
    },
    {
     "name": "stdout",
     "output_type": "stream",
     "text": [
      "Plot for ADV_COUNT: total counts = 8\n"
     ]
    },
    {
     "data": {
      "image/png": "[encoded data removed]",
      "text/plain": [
       "<Figure size 720x360 with 1 Axes>"
      ]
     },
     "metadata": {
      "needs_background": "light"
     },
     "output_type": "display_data"
    },
    {
     "name": "stdout",
     "output_type": "stream",
     "text": [
      "Plot for PRON_COUNT: total counts = 4\n"
     ]
    },
    {
     "data": {
      "image/png": "[encoded data removed]",
      "text/plain": [
       "<Figure size 720x360 with 1 Axes>"
      ]
     },
     "metadata": {
      "needs_background": "light"
     },
     "output_type": "display_data"
    }
   ],
   "source": [
    "import seaborn as sns\n",
    "import matplotlib.pyplot as plt\n",
    "df_explore = df[['word_count', 'noun_count', 'verb_count', 'adj_count', 'adv_count',\n",
    "       'pron_count']]\n",
    "for cat in df_explore:\n",
    "    cat_num = df_explore[cat].value_counts()\n",
    "    print(\"Plot for %s: total counts = %d\" % (cat.upper(), len(cat_num)))\n",
    "    f, ax = plt.subplots(figsize=(10,5))\n",
    "    plot = sns.barplot(x=cat_num.index, y=cat_num)\n",
    "    plot.set_xticklabels(plot.get_xticklabels(), rotation=45)\n",
    "    plt.show()"
   ]
  },
  {
   "cell_type": "markdown",
   "metadata": {},
   "source": [
    "Drop pron_count since most of the records have 0 pronouns "
   ]
  },
  {
   "cell_type": "code",
   "execution_count": 6,
   "metadata": {},
   "outputs": [],
   "source": [
    "df = df.drop(['pron_count'], axis=1)"
   ]
  },
  {
   "cell_type": "code",
   "execution_count": 7,
   "metadata": {
    "scrolled": true
   },
   "outputs": [
    {
     "data": {
      "text/html": [
       "<div>\n",
       "<style scoped>\n",
       "    .dataframe tbody tr th:only-of-type {\n",
       "        vertical-align: middle;\n",
       "    }\n",
       "\n",
       "    .dataframe tbody tr th {\n",
       "        vertical-align: top;\n",
       "    }\n",
       "\n",
       "    .dataframe thead th {\n",
       "        text-align: right;\n",
       "    }\n",
       "</style>\n",
       "<table border=\"1\" class=\"dataframe\">\n",
       "  <thead>\n",
       "    <tr style=\"text-align: right;\">\n",
       "      <th></th>\n",
       "      <th>label</th>\n",
       "      <th>text</th>\n",
       "      <th>text_clean</th>\n",
       "      <th>text_tokens</th>\n",
       "      <th>text_tokens_lemma</th>\n",
       "      <th>word_count</th>\n",
       "      <th>noun_count</th>\n",
       "      <th>verb_count</th>\n",
       "      <th>adj_count</th>\n",
       "      <th>adv_count</th>\n",
       "    </tr>\n",
       "  </thead>\n",
       "  <tbody>\n",
       "    <tr>\n",
       "      <th>0</th>\n",
       "      <td>ham</td>\n",
       "      <td>go jurong point crazy available bugis n great ...</td>\n",
       "      <td>go jurong point crazy available bugis n great ...</td>\n",
       "      <td>['go', 'jurong', 'point', 'crazy', 'available'...</td>\n",
       "      <td>['go', 'jurong', 'point', 'crazy', 'available'...</td>\n",
       "      <td>131</td>\n",
       "      <td>6</td>\n",
       "      <td>3</td>\n",
       "      <td>5</td>\n",
       "      <td>2</td>\n",
       "    </tr>\n",
       "    <tr>\n",
       "      <th>1</th>\n",
       "      <td>ham</td>\n",
       "      <td>lar joking wif oni</td>\n",
       "      <td>lar joking wif oni</td>\n",
       "      <td>['lar', 'joking', 'wif', 'oni']</td>\n",
       "      <td>['lar', 'joking', 'wif', 'oni']</td>\n",
       "      <td>31</td>\n",
       "      <td>3</td>\n",
       "      <td>0</td>\n",
       "      <td>1</td>\n",
       "      <td>0</td>\n",
       "    </tr>\n",
       "    <tr>\n",
       "      <th>2</th>\n",
       "      <td>spam</td>\n",
       "      <td>free entry wkly comp win fa cup final tkts st ...</td>\n",
       "      <td>free entry wkly comp win fa cup final tkts st ...</td>\n",
       "      <td>['free', 'entry', 'wkly', 'comp', 'win', 'fa',...</td>\n",
       "      <td>['free', 'entry', 'wkly', 'comp', 'win', 'fa',...</td>\n",
       "      <td>167</td>\n",
       "      <td>10</td>\n",
       "      <td>3</td>\n",
       "      <td>5</td>\n",
       "      <td>0</td>\n",
       "    </tr>\n",
       "    <tr>\n",
       "      <th>3</th>\n",
       "      <td>ham</td>\n",
       "      <td>dun early hor c already</td>\n",
       "      <td>dun early hor c already</td>\n",
       "      <td>['dun', 'early', 'hor', 'c', 'already']</td>\n",
       "      <td>['dun', 'early', 'hor', 'c', 'already']</td>\n",
       "      <td>39</td>\n",
       "      <td>2</td>\n",
       "      <td>0</td>\n",
       "      <td>1</td>\n",
       "      <td>2</td>\n",
       "    </tr>\n",
       "    <tr>\n",
       "      <th>4</th>\n",
       "      <td>ham</td>\n",
       "      <td>nah dont think go usf life around though</td>\n",
       "      <td>nah dont think goes usf lives around though</td>\n",
       "      <td>['nah', 'dont', 'think', 'goes', 'usf', 'lives...</td>\n",
       "      <td>['nah', 'dont', 'think', 'go', 'usf', 'life', ...</td>\n",
       "      <td>65</td>\n",
       "      <td>2</td>\n",
       "      <td>2</td>\n",
       "      <td>2</td>\n",
       "      <td>0</td>\n",
       "    </tr>\n",
       "  </tbody>\n",
       "</table>\n",
       "</div>"
      ],
      "text/plain": [
       "  label                                               text  \\\n",
       "0   ham  go jurong point crazy available bugis n great ...   \n",
       "1   ham                                 lar joking wif oni   \n",
       "2  spam  free entry wkly comp win fa cup final tkts st ...   \n",
       "3   ham                            dun early hor c already   \n",
       "4   ham           nah dont think go usf life around though   \n",
       "\n",
       "                                          text_clean  \\\n",
       "0  go jurong point crazy available bugis n great ...   \n",
       "1                                 lar joking wif oni   \n",
       "2  free entry wkly comp win fa cup final tkts st ...   \n",
       "3                            dun early hor c already   \n",
       "4        nah dont think goes usf lives around though   \n",
       "\n",
       "                                         text_tokens  \\\n",
       "0  ['go', 'jurong', 'point', 'crazy', 'available'...   \n",
       "1                    ['lar', 'joking', 'wif', 'oni']   \n",
       "2  ['free', 'entry', 'wkly', 'comp', 'win', 'fa',...   \n",
       "3            ['dun', 'early', 'hor', 'c', 'already']   \n",
       "4  ['nah', 'dont', 'think', 'goes', 'usf', 'lives...   \n",
       "\n",
       "                                   text_tokens_lemma  word_count  noun_count  \\\n",
       "0  ['go', 'jurong', 'point', 'crazy', 'available'...         131           6   \n",
       "1                    ['lar', 'joking', 'wif', 'oni']          31           3   \n",
       "2  ['free', 'entry', 'wkly', 'comp', 'win', 'fa',...         167          10   \n",
       "3            ['dun', 'early', 'hor', 'c', 'already']          39           2   \n",
       "4  ['nah', 'dont', 'think', 'go', 'usf', 'life', ...          65           2   \n",
       "\n",
       "   verb_count  adj_count  adv_count  \n",
       "0           3          5          2  \n",
       "1           0          1          0  \n",
       "2           3          5          0  \n",
       "3           0          1          2  \n",
       "4           2          2          0  "
      ]
     },
     "execution_count": 7,
     "metadata": {},
     "output_type": "execute_result"
    }
   ],
   "source": [
    "df.head()"
   ]
  },
  {
   "cell_type": "markdown",
   "metadata": {},
   "source": [
    "Vectorize sentences"
   ]
  },
  {
   "cell_type": "code",
   "execution_count": 8,
   "metadata": {},
   "outputs": [],
   "source": [
    "from sklearn.feature_extraction.text import TfidfVectorizer\n",
    "\n",
    "X_texts= df['text_clean']\n",
    "\n",
    "tf = TfidfVectorizer(decode_error='ignore')\n",
    "tf_texts = tf.fit_transform(X_texts.values.astype('U'))\n",
    "X_1 = tf_texts.toarray()\n",
    "\n",
    "X_other = df[['word_count', 'noun_count', 'verb_count', 'adj_count', 'adv_count']].values\n",
    "X_other.shape\n",
    "\n",
    "X = np.concatenate((X_1, X_other), axis=1)\n",
    "\n",
    "df['spam'] = df['label'].replace({'spam':1,'ham':0})\n",
    "\n",
    "Y = df['spam'].values"
   ]
  },
  {
   "cell_type": "markdown",
   "metadata": {},
   "source": [
    "Model Comparison"
   ]
  },
  {
   "cell_type": "code",
   "execution_count": 9,
   "metadata": {},
   "outputs": [],
   "source": [
    "from sklearn.model_selection import train_test_split\n",
    "X_train, X_test, y_train, y_test = train_test_split(X, Y, test_size=0.33, random_state=42)\n",
    "from sklearn.model_selection import cross_val_score"
   ]
  },
  {
   "cell_type": "code",
   "execution_count": 12,
   "metadata": {},
   "outputs": [
    {
     "data": {
      "text/plain": [
       "-0.04074115819049842"
      ]
     },
     "execution_count": 12,
     "metadata": {},
     "output_type": "execute_result"
    }
   ],
   "source": [
    "#Logistic Regression\n",
    "from sklearn.linear_model import LogisticRegression\n",
    "lr = LogisticRegression(max_iter=1000)\n",
    "np.mean(cross_val_score(lr, X,Y, scoring='neg_mean_absolute_error', cv = 5)) "
   ]
  },
  {
   "cell_type": "code",
   "execution_count": 13,
   "metadata": {
    "scrolled": false
   },
   "outputs": [
    {
     "name": "stderr",
     "output_type": "stream",
     "text": [
      "[Parallel(n_jobs=-1)]: Using backend LokyBackend with 8 concurrent workers.\n",
      "[Parallel(n_jobs=-1)]: Done  34 tasks      | elapsed:    6.2s\n",
      "[Parallel(n_jobs=-1)]: Done 100 out of 100 | elapsed:   13.4s finished\n",
      "[Parallel(n_jobs=8)]: Using backend ThreadingBackend with 8 concurrent workers.\n",
      "[Parallel(n_jobs=8)]: Done  34 tasks      | elapsed:    0.0s\n",
      "[Parallel(n_jobs=8)]: Done 100 out of 100 | elapsed:    0.1s finished\n",
      "[Parallel(n_jobs=-1)]: Using backend LokyBackend with 8 concurrent workers.\n",
      "[Parallel(n_jobs=-1)]: Done  34 tasks      | elapsed:    4.9s\n",
      "[Parallel(n_jobs=-1)]: Done 100 out of 100 | elapsed:   11.9s finished\n",
      "[Parallel(n_jobs=8)]: Using backend ThreadingBackend with 8 concurrent workers.\n",
      "[Parallel(n_jobs=8)]: Done  34 tasks      | elapsed:    0.0s\n",
      "[Parallel(n_jobs=8)]: Done 100 out of 100 | elapsed:    0.0s finished\n",
      "[Parallel(n_jobs=-1)]: Using backend LokyBackend with 8 concurrent workers.\n",
      "[Parallel(n_jobs=-1)]: Done  34 tasks      | elapsed:    5.3s\n",
      "[Parallel(n_jobs=-1)]: Done 100 out of 100 | elapsed:   12.4s finished\n",
      "[Parallel(n_jobs=8)]: Using backend ThreadingBackend with 8 concurrent workers.\n",
      "[Parallel(n_jobs=8)]: Done  34 tasks      | elapsed:    0.0s\n",
      "[Parallel(n_jobs=8)]: Done 100 out of 100 | elapsed:    0.0s finished\n",
      "[Parallel(n_jobs=-1)]: Using backend LokyBackend with 8 concurrent workers.\n",
      "[Parallel(n_jobs=-1)]: Done  34 tasks      | elapsed:    4.7s\n",
      "[Parallel(n_jobs=-1)]: Done 100 out of 100 | elapsed:   10.2s finished\n",
      "[Parallel(n_jobs=8)]: Using backend ThreadingBackend with 8 concurrent workers.\n",
      "[Parallel(n_jobs=8)]: Done  34 tasks      | elapsed:    0.0s\n",
      "[Parallel(n_jobs=8)]: Done 100 out of 100 | elapsed:    0.0s finished\n",
      "[Parallel(n_jobs=-1)]: Using backend LokyBackend with 8 concurrent workers.\n",
      "[Parallel(n_jobs=-1)]: Done  34 tasks      | elapsed:    5.7s\n",
      "[Parallel(n_jobs=-1)]: Done 100 out of 100 | elapsed:   14.7s finished\n",
      "[Parallel(n_jobs=8)]: Using backend ThreadingBackend with 8 concurrent workers.\n",
      "[Parallel(n_jobs=8)]: Done  34 tasks      | elapsed:    0.0s\n",
      "[Parallel(n_jobs=8)]: Done 100 out of 100 | elapsed:    0.1s finished\n"
     ]
    },
    {
     "data": {
      "text/plain": [
       "-0.027817987134794823"
      ]
     },
     "execution_count": 13,
     "metadata": {},
     "output_type": "execute_result"
    }
   ],
   "source": [
    "#Random Forest\n",
    "from sklearn.ensemble import RandomForestClassifier\n",
    "clf = RandomForestClassifier(n_jobs=-1,random_state=27,verbose=1)\n",
    "np.mean(cross_val_score(clf, X,Y, scoring='neg_mean_absolute_error', cv = 5)) "
   ]
  },
  {
   "cell_type": "code",
   "execution_count": 16,
   "metadata": {},
   "outputs": [
    {
     "data": {
      "text/plain": [
       "-0.04056049786250815"
      ]
     },
     "execution_count": 16,
     "metadata": {},
     "output_type": "execute_result"
    }
   ],
   "source": [
    "#AdaBoost\n",
    "from sklearn.ensemble import AdaBoostClassifier\n",
    "ada = AdaBoostClassifier(random_state=27)\n",
    "np.mean(cross_val_score(ada, X,Y, scoring='neg_mean_absolute_error', cv = 5))"
   ]
  },
  {
   "cell_type": "code",
   "execution_count": 19,
   "metadata": {},
   "outputs": [
    {
     "data": {
      "text/plain": [
       "-0.021717561246588465"
      ]
     },
     "execution_count": 19,
     "metadata": {},
     "output_type": "execute_result"
    }
   ],
   "source": [
    "#LinearSVC\n",
    "from sklearn.svm import SVC\n",
    "svc = SVC(kernel='linear', C=1)\n",
    "np.mean(cross_val_score(svc, X,Y, scoring='neg_mean_absolute_error', cv = 5)) # -0.022076627673877514"
   ]
  },
  {
   "cell_type": "code",
   "execution_count": 12,
   "metadata": {},
   "outputs": [],
   "source": [
    "#XGBoost\n",
    "from xgboost.sklearn import XGBClassifier\n",
    "\n",
    "xgb1 = XGBClassifier(learning_rate=0.1,\n",
    "                    n_estimators=1000,\n",
    "                    max_depth=5,\n",
    "                    min_child_weight=1,\n",
    "                    gamma=0,\n",
    "                    subsample=0.8,\n",
    "                    colsample_bytree=0.8,\n",
    "                    objective='binary:logistic',\n",
    "                    nthread=4,\n",
    "                    seed=27)"
   ]
  },
  {
   "cell_type": "code",
   "execution_count": 13,
   "metadata": {},
   "outputs": [
    {
     "data": {
      "text/plain": [
       "-0.030510824323127583"
      ]
     },
     "execution_count": 13,
     "metadata": {},
     "output_type": "execute_result"
    }
   ],
   "source": [
    "np.mean(cross_val_score(xgb1, X,Y, scoring='neg_mean_absolute_error', cv = 5))"
   ]
  },
  {
   "cell_type": "markdown",
   "metadata": {},
   "source": [
    "### Use Random Forest with GridSearchCV\n",
    "\n",
    "Evaluation metric: precision, recall, f1 score, and AUC-ROC curve\n",
    "\n",
    "1. Precision: Precision refers to the percentage of your results which are relevant and is calculated as follows: True Positives/(True Positives + Flase Positives)\n",
    "2. Recall: Recall refers to the percentage of total relevant results correctly classified by your algorithm and is calculated as follows: True Positives/(True Positives + False Negatives)\n",
    "3. F1 Score: It is the harmonic mean of precision and recall and is calculated as follows: (2 x Precision x Recall)/(Precision + Recall)\n",
    "4. AUC-ROC curve (Area Under Curve — Receiver Operating Characteristic Curve): The True Positive Rate (TPR) is a plot against False Positive Rate (FPR) for the probabilities of the classifier predictions. Then, the area under the plot is calculated. The greater the area under the curve the better our model is."
   ]
  },
  {
   "cell_type": "code",
   "execution_count": 46,
   "metadata": {},
   "outputs": [],
   "source": [
    "from sklearn.metrics import accuracy_score, f1_score, roc_auc_score\n",
    "from sklearn.model_selection import GridSearchCV\n",
    "\n",
    "training_data = {'X_train':X_train,'Y_train':y_train,\n",
    "                'X_test': X_test,'Y_test':y_test}"
   ]
  },
  {
   "cell_type": "code",
   "execution_count": 44,
   "metadata": {},
   "outputs": [],
   "source": [
    "def getTrainScores(gs):\n",
    "    results = {}\n",
    "    runs = 0\n",
    "    for x,y in zip(list(gs.cv_results_['mean_test_score']), gs.cv_results_['params']):\n",
    "        results[runs] = 'mean:' + str(x) + 'params' + str(y)\n",
    "        runs += 1\n",
    "    best = {'best_mean': gs.best_score_, \"best_param\":gs.best_params_}\n",
    "    return best"
   ]
  },
  {
   "cell_type": "code",
   "execution_count": 45,
   "metadata": {},
   "outputs": [
    {
     "name": "stderr",
     "output_type": "stream",
     "text": [
      "[Parallel(n_jobs=-1)]: Using backend ThreadingBackend with 8 concurrent workers.\n",
      "[Parallel(n_jobs=-1)]: Done  34 tasks      | elapsed:    2.9s\n",
      "[Parallel(n_jobs=-1)]: Done 100 out of 100 | elapsed:    8.7s finished\n"
     ]
    },
    {
     "data": {
      "text/plain": [
       "RandomForestClassifier(bootstrap=True, ccp_alpha=0.0, class_weight=None,\n",
       "                       criterion='gini', max_depth=None, max_features='auto',\n",
       "                       max_leaf_nodes=None, max_samples=None,\n",
       "                       min_impurity_decrease=0.0, min_impurity_split=None,\n",
       "                       min_samples_leaf=1, min_samples_split=2,\n",
       "                       min_weight_fraction_leaf=0.0, n_estimators=100,\n",
       "                       n_jobs=-1, oob_score=False, random_state=27, verbose=1,\n",
       "                       warm_start=False)"
      ]
     },
     "execution_count": 45,
     "metadata": {},
     "output_type": "execute_result"
    }
   ],
   "source": [
    "from sklearn.ensemble import RandomForestClassifier\n",
    "\n",
    "clf = RandomForestClassifier(n_jobs=-1,random_state=27,\n",
    "                       verbose=1)\n",
    "clf.fit(training_data['X_train'], training_data['Y_train'].reshape(training_data['Y_train'].shape[0],))"
   ]
  },
  {
   "cell_type": "code",
   "execution_count": 84,
   "metadata": {},
   "outputs": [
    {
     "name": "stdout",
     "output_type": "stream",
     "text": [
      "CLF 1 roc: 0.9087301587301587\n",
      "CLF 1 acc: 0.9749864056552474\n",
      "CLF 1 f1: 0.8995633187772926\n"
     ]
    },
    {
     "name": "stderr",
     "output_type": "stream",
     "text": [
      "[Parallel(n_jobs=8)]: Using backend ThreadingBackend with 8 concurrent workers.\n",
      "[Parallel(n_jobs=8)]: Done  34 tasks      | elapsed:    0.0s\n",
      "[Parallel(n_jobs=8)]: Done 100 out of 100 | elapsed:    0.1s finished\n"
     ]
    }
   ],
   "source": [
    "predicted_labels = clf.predict(training_data['X_test'])\n",
    "print(\"CLF 1 roc: \"+str(roc_auc_score(training_data['Y_test'], predicted_labels)))\n",
    "print(\"CLF 1 acc: \"+str(accuracy_score(training_data['Y_test'], predicted_labels)))\n",
    "print(\"CLF 1 f1: \"+str(f1_score(training_data['Y_test'], predicted_labels)))"
   ]
  },
  {
   "cell_type": "code",
   "execution_count": 49,
   "metadata": {
    "scrolled": false
   },
   "outputs": [
    {
     "name": "stdout",
     "output_type": "stream",
     "text": [
      "Fitting 5 folds for each of 40 candidates, totalling 200 fits\n"
     ]
    },
    {
     "name": "stderr",
     "output_type": "stream",
     "text": [
      "[Parallel(n_jobs=-1)]: Using backend LokyBackend with 8 concurrent workers.\n",
      "[Parallel(n_jobs=-1)]: Done   2 tasks      | elapsed:    9.0s\n",
      "[Parallel(n_jobs=-1)]: Done   9 tasks      | elapsed:   16.1s\n",
      "[Parallel(n_jobs=-1)]: Done  16 tasks      | elapsed:   23.9s\n",
      "[Parallel(n_jobs=-1)]: Done  25 tasks      | elapsed:   53.9s\n",
      "[Parallel(n_jobs=-1)]: Done  34 tasks      | elapsed:  1.5min\n",
      "[Parallel(n_jobs=-1)]: Done  45 tasks      | elapsed:  1.8min\n",
      "[Parallel(n_jobs=-1)]: Done  56 tasks      | elapsed:  2.2min\n",
      "[Parallel(n_jobs=-1)]: Done  69 tasks      | elapsed:  2.8min\n",
      "[Parallel(n_jobs=-1)]: Done  82 tasks      | elapsed:  3.5min\n",
      "[Parallel(n_jobs=-1)]: Done  97 tasks      | elapsed:  4.1min\n",
      "[Parallel(n_jobs=-1)]: Done 112 tasks      | elapsed:  5.0min\n",
      "[Parallel(n_jobs=-1)]: Done 129 tasks      | elapsed:  5.8min\n",
      "[Parallel(n_jobs=-1)]: Done 146 tasks      | elapsed:  6.8min\n",
      "[Parallel(n_jobs=-1)]: Done 165 tasks      | elapsed:  7.9min\n",
      "[Parallel(n_jobs=-1)]: Done 184 tasks      | elapsed:  9.0min\n",
      "[Parallel(n_jobs=-1)]: Done 200 out of 200 | elapsed: 10.1min finished\n",
      "[Parallel(n_jobs=-1)]: Using backend ThreadingBackend with 8 concurrent workers.\n",
      "[Parallel(n_jobs=-1)]: Done  34 tasks      | elapsed:    0.6s\n",
      "[Parallel(n_jobs=-1)]: Done 184 tasks      | elapsed:    3.0s\n",
      "[Parallel(n_jobs=-1)]: Done 434 tasks      | elapsed:    7.0s\n",
      "[Parallel(n_jobs=-1)]: Done 450 out of 450 | elapsed:    7.2s finished\n"
     ]
    },
    {
     "data": {
      "text/plain": [
       "GridSearchCV(cv=5, error_score=nan,\n",
       "             estimator=RandomForestClassifier(bootstrap=True, ccp_alpha=0.0,\n",
       "                                              class_weight=None,\n",
       "                                              criterion='gini', max_depth=None,\n",
       "                                              max_features='auto',\n",
       "                                              max_leaf_nodes=None,\n",
       "                                              max_samples=None,\n",
       "                                              min_impurity_decrease=0.0,\n",
       "                                              min_impurity_split=None,\n",
       "                                              min_samples_leaf=1,\n",
       "                                              min_samples_split=2,\n",
       "                                              min_weight_fraction_leaf=0.0,\n",
       "                                              n_estimators=100, n_jobs=-1,\n",
       "                                              oob_score=False, random_state=27,\n",
       "                                              verbose=1, warm_start=False),\n",
       "             iid='deprecated', n_jobs=-1,\n",
       "             param_grid={'criterion': ['gini'], 'max_depth': [8, 9, 10, 11, 12],\n",
       "                         'max_features': ['auto'],\n",
       "                         'n_estimators': range(100, 500, 50)},\n",
       "             pre_dispatch='2*n_jobs', refit=True, return_train_score=False,\n",
       "             scoring='roc_auc', verbose=10)"
      ]
     },
     "execution_count": 49,
     "metadata": {},
     "output_type": "execute_result"
    }
   ],
   "source": [
    "params = {\n",
    "    'n_estimators'      : range(100,500,50),\n",
    "    'max_depth'         : [8, 9, 10, 11, 12],\n",
    "    'max_features': ['auto'],\n",
    "    'criterion' :['gini']\n",
    "}\n",
    "#metrics to consider: f1_micro, f1_macro, roc_auc_ovr\n",
    "gsearch1 = GridSearchCV(estimator = clf, param_grid = params, scoring='roc_auc',n_jobs=-1,verbose = 10, cv=5)\n",
    "gsearch1.fit(training_data['X_train'], training_data['Y_train'].reshape(training_data['Y_train'].shape[0],))"
   ]
  },
  {
   "cell_type": "code",
   "execution_count": 50,
   "metadata": {},
   "outputs": [
    {
     "data": {
      "text/plain": [
       "{'best_mean': 0.9802997344213212,\n",
       " 'best_param': {'criterion': 'gini',\n",
       "  'max_depth': 12,\n",
       "  'max_features': 'auto',\n",
       "  'n_estimators': 450}}"
      ]
     },
     "execution_count": 50,
     "metadata": {},
     "output_type": "execute_result"
    }
   ],
   "source": [
    "getTrainScores(gsearch1)"
   ]
  },
  {
   "cell_type": "code",
   "execution_count": 51,
   "metadata": {},
   "outputs": [
    {
     "name": "stdout",
     "output_type": "stream",
     "text": [
      "Fitting 5 folds for each of 32 candidates, totalling 160 fits\n"
     ]
    },
    {
     "name": "stderr",
     "output_type": "stream",
     "text": [
      "[Parallel(n_jobs=-1)]: Using backend LokyBackend with 8 concurrent workers.\n",
      "[Parallel(n_jobs=-1)]: Done   2 tasks      | elapsed:   41.6s\n",
      "[Parallel(n_jobs=-1)]: Done   9 tasks      | elapsed:  1.4min\n",
      "[Parallel(n_jobs=-1)]: Done  16 tasks      | elapsed:  1.6min\n",
      "[Parallel(n_jobs=-1)]: Done  25 tasks      | elapsed:  3.2min\n",
      "[Parallel(n_jobs=-1)]: Done  34 tasks      | elapsed:  4.6min\n",
      "[Parallel(n_jobs=-1)]: Done  45 tasks      | elapsed:  5.7min\n",
      "[Parallel(n_jobs=-1)]: Done  56 tasks      | elapsed:  6.8min\n",
      "[Parallel(n_jobs=-1)]: Done  69 tasks      | elapsed:  9.2min\n",
      "[Parallel(n_jobs=-1)]: Done  82 tasks      | elapsed: 11.0min\n",
      "[Parallel(n_jobs=-1)]: Done  97 tasks      | elapsed: 12.9min\n",
      "[Parallel(n_jobs=-1)]: Done 112 tasks      | elapsed: 15.8min\n",
      "[Parallel(n_jobs=-1)]: Done 129 tasks      | elapsed: 18.3min\n",
      "[Parallel(n_jobs=-1)]: Done 160 out of 160 | elapsed: 23.6min finished\n",
      "[Parallel(n_jobs=-1)]: Using backend ThreadingBackend with 8 concurrent workers.\n",
      "[Parallel(n_jobs=-1)]: Done  34 tasks      | elapsed:    0.9s\n",
      "[Parallel(n_jobs=-1)]: Done 184 tasks      | elapsed:    4.2s\n",
      "[Parallel(n_jobs=-1)]: Done 434 tasks      | elapsed:    9.6s\n",
      "[Parallel(n_jobs=-1)]: Done 500 out of 500 | elapsed:   11.0s finished\n"
     ]
    },
    {
     "data": {
      "text/plain": [
       "GridSearchCV(cv=5, error_score=nan,\n",
       "             estimator=RandomForestClassifier(bootstrap=True, ccp_alpha=0.0,\n",
       "                                              class_weight=None,\n",
       "                                              criterion='gini', max_depth=12,\n",
       "                                              max_features='auto',\n",
       "                                              max_leaf_nodes=None,\n",
       "                                              max_samples=None,\n",
       "                                              min_impurity_decrease=0.0,\n",
       "                                              min_impurity_split=None,\n",
       "                                              min_samples_leaf=1,\n",
       "                                              min_samples_split=2,\n",
       "                                              min_weight_fraction_leaf=0.0,\n",
       "                                              n_estimators=450, n_jobs=-1,\n",
       "                                              oob_score=False, random_state=27,\n",
       "                                              verbose=1, warm_start=False),\n",
       "             iid='deprecated', n_jobs=-1,\n",
       "             param_grid={'max_depth': range(12, 20, 2),\n",
       "                         'n_estimators': range(400, 800, 50)},\n",
       "             pre_dispatch='2*n_jobs', refit=True, return_train_score=False,\n",
       "             scoring='roc_auc', verbose=10)"
      ]
     },
     "execution_count": 51,
     "metadata": {},
     "output_type": "execute_result"
    }
   ],
   "source": [
    "clf2 = gsearch1.best_estimator_\n",
    "\n",
    "params1 = {\n",
    "    'n_estimators'      : range(400,800,50),\n",
    "    'max_depth'         : range(12,20,2)\n",
    "}\n",
    "#metrics to consider: f1_micro, f1_macro, roc_auc_ovr\n",
    "gsearch2 = GridSearchCV(estimator = clf2, param_grid = params1, scoring='roc_auc',n_jobs=-1,verbose = 10, cv=5)\n",
    "gsearch2.fit(training_data['X_train'], training_data['Y_train'].reshape(training_data['Y_train'].shape[0],))"
   ]
  },
  {
   "cell_type": "code",
   "execution_count": 52,
   "metadata": {},
   "outputs": [
    {
     "data": {
      "text/plain": [
       "{'best_mean': 0.9831876640351652,\n",
       " 'best_param': {'max_depth': 18, 'n_estimators': 500}}"
      ]
     },
     "execution_count": 52,
     "metadata": {},
     "output_type": "execute_result"
    }
   ],
   "source": [
    "getTrainScores(gsearch2)"
   ]
  },
  {
   "cell_type": "code",
   "execution_count": 53,
   "metadata": {},
   "outputs": [
    {
     "name": "stdout",
     "output_type": "stream",
     "text": [
      "Fitting 5 folds for each of 4 candidates, totalling 20 fits\n"
     ]
    },
    {
     "name": "stderr",
     "output_type": "stream",
     "text": [
      "[Parallel(n_jobs=-1)]: Using backend LokyBackend with 8 concurrent workers.\n",
      "[Parallel(n_jobs=-1)]: Done   2 tasks      | elapsed:  3.7min\n",
      "[Parallel(n_jobs=-1)]: Done   8 out of  20 | elapsed:  3.7min remaining:  5.6min\n",
      "[Parallel(n_jobs=-1)]: Done  11 out of  20 | elapsed:  7.4min remaining:  6.1min\n",
      "[Parallel(n_jobs=-1)]: Done  14 out of  20 | elapsed:  7.5min remaining:  3.2min\n",
      "[Parallel(n_jobs=-1)]: Done  17 out of  20 | elapsed:  9.3min remaining:  1.6min\n",
      "[Parallel(n_jobs=-1)]: Done  20 out of  20 | elapsed:  9.3min remaining:    0.0s\n",
      "[Parallel(n_jobs=-1)]: Done  20 out of  20 | elapsed:  9.3min finished\n",
      "[Parallel(n_jobs=-1)]: Using backend ThreadingBackend with 8 concurrent workers.\n",
      "[Parallel(n_jobs=-1)]: Done  34 tasks      | elapsed:    1.9s\n",
      "[Parallel(n_jobs=-1)]: Done 184 tasks      | elapsed:   12.3s\n",
      "[Parallel(n_jobs=-1)]: Done 434 tasks      | elapsed:   29.3s\n",
      "[Parallel(n_jobs=-1)]: Done 500 out of 500 | elapsed:   33.8s finished\n"
     ]
    },
    {
     "data": {
      "text/plain": [
       "GridSearchCV(cv=5, error_score=nan,\n",
       "             estimator=RandomForestClassifier(bootstrap=True, ccp_alpha=0.0,\n",
       "                                              class_weight=None,\n",
       "                                              criterion='gini', max_depth=18,\n",
       "                                              max_features='auto',\n",
       "                                              max_leaf_nodes=None,\n",
       "                                              max_samples=None,\n",
       "                                              min_impurity_decrease=0.0,\n",
       "                                              min_impurity_split=None,\n",
       "                                              min_samples_leaf=1,\n",
       "                                              min_samples_split=2,\n",
       "                                              min_weight_fraction_leaf=0.0,\n",
       "                                              n_estimators=500, n_jobs=-1,\n",
       "                                              oob_score=False, random_state=27,\n",
       "                                              verbose=1, warm_start=False),\n",
       "             iid='deprecated', n_jobs=-1,\n",
       "             param_grid={'max_depth': range(92, 100, 2)},\n",
       "             pre_dispatch='2*n_jobs', refit=True, return_train_score=False,\n",
       "             scoring='roc_auc', verbose=10)"
      ]
     },
     "execution_count": 53,
     "metadata": {},
     "output_type": "execute_result"
    }
   ],
   "source": [
    "clf3 = gsearch2.best_estimator_\n",
    "\n",
    "params2 = {\n",
    "    'max_depth'         : range(92,100,2)\n",
    "}\n",
    "#metrics to consider: f1_micro, f1_macro, roc_auc_ovr\n",
    "gsearch3 = GridSearchCV(estimator = clf3, param_grid = params2, scoring='roc_auc',n_jobs=-1,verbose = 10, cv=5)\n",
    "gsearch3.fit(training_data['X_train'], training_data['Y_train'].reshape(training_data['Y_train'].shape[0],))"
   ]
  },
  {
   "cell_type": "code",
   "execution_count": 54,
   "metadata": {},
   "outputs": [
    {
     "data": {
      "text/plain": [
       "{'best_mean': 0.986692757136114, 'best_param': {'max_depth': 94}}"
      ]
     },
     "execution_count": 54,
     "metadata": {},
     "output_type": "execute_result"
    }
   ],
   "source": [
    "getTrainScores(gsearch3)"
   ]
  },
  {
   "cell_type": "code",
   "execution_count": 34,
   "metadata": {},
   "outputs": [
    {
     "name": "stdout",
     "output_type": "stream",
     "text": [
      "Fitting 5 folds for each of 3 candidates, totalling 15 fits\n"
     ]
    },
    {
     "name": "stderr",
     "output_type": "stream",
     "text": [
      "[Parallel(n_jobs=-1)]: Using backend LokyBackend with 8 concurrent workers.\n",
      "[Parallel(n_jobs=-1)]: Done   2 out of  15 | elapsed:  4.1min remaining: 26.8min\n",
      "[Parallel(n_jobs=-1)]: Done   4 out of  15 | elapsed:  4.1min remaining: 11.4min\n",
      "[Parallel(n_jobs=-1)]: Done   6 out of  15 | elapsed:  4.1min remaining:  6.2min\n",
      "[Parallel(n_jobs=-1)]: Done   8 out of  15 | elapsed:  4.2min remaining:  3.6min\n",
      "[Parallel(n_jobs=-1)]: Done  10 out of  15 | elapsed:  7.8min remaining:  3.9min\n",
      "[Parallel(n_jobs=-1)]: Done  12 out of  15 | elapsed:  7.8min remaining:  1.9min\n",
      "[Parallel(n_jobs=-1)]: Done  15 out of  15 | elapsed:  7.8min finished\n",
      "[Parallel(n_jobs=-1)]: Using backend ThreadingBackend with 8 concurrent workers.\n",
      "[Parallel(n_jobs=-1)]: Done  34 tasks      | elapsed:    2.7s\n",
      "[Parallel(n_jobs=-1)]: Done 184 tasks      | elapsed:   13.8s\n",
      "[Parallel(n_jobs=-1)]: Done 434 tasks      | elapsed:   32.2s\n",
      "[Parallel(n_jobs=-1)]: Done 550 out of 550 | elapsed:   40.8s finished\n"
     ]
    },
    {
     "data": {
      "text/plain": [
       "GridSearchCV(cv=5, error_score=nan,\n",
       "             estimator=RandomForestClassifier(bootstrap=True, ccp_alpha=0.0,\n",
       "                                              class_weight=None,\n",
       "                                              criterion='gini', max_depth=94,\n",
       "                                              max_features='auto',\n",
       "                                              max_leaf_nodes=None,\n",
       "                                              max_samples=None,\n",
       "                                              min_impurity_decrease=0.0,\n",
       "                                              min_impurity_split=None,\n",
       "                                              min_samples_leaf=1,\n",
       "                                              min_samples_split=2,\n",
       "                                              min_weight_fraction_leaf=0.0,\n",
       "                                              n_estimators=550, n_jobs=-1,\n",
       "                                              oob_score=False, random_state=27,\n",
       "                                              verbose=1, warm_start=False),\n",
       "             iid='deprecated', n_jobs=-1,\n",
       "             param_grid={'max_depth': [93, 94, 95]}, pre_dispatch='2*n_jobs',\n",
       "             refit=True, return_train_score=False, scoring='f1_micro',\n",
       "             verbose=10)"
      ]
     },
     "execution_count": 34,
     "metadata": {},
     "output_type": "execute_result"
    }
   ],
   "source": [
    "clf4 = gsearch3.best_estimator_\n",
    "\n",
    "params3 = {\n",
    "    'max_depth'         : [93,94,95]\n",
    "}\n",
    "#metrics to consider: f1_micro, f1_macro, roc_auc_ovr\n",
    "gsearch4 = GridSearchCV(estimator = clf4, param_grid = params3, scoring='roc_auc',n_jobs=-1,verbose = 10, cv=5)\n",
    "gsearch4.fit(training_data['X_train'], training_data['Y_train'].reshape(training_data['Y_train'].shape[0],))"
   ]
  },
  {
   "cell_type": "code",
   "execution_count": 35,
   "metadata": {},
   "outputs": [
    {
     "data": {
      "text/plain": [
       "{'best_mean': 0.970263538515097, 'best_param': {'max_depth': 94}}"
      ]
     },
     "execution_count": 35,
     "metadata": {},
     "output_type": "execute_result"
    }
   ],
   "source": [
    "getTrainScores(gsearch4)"
   ]
  },
  {
   "cell_type": "code",
   "execution_count": 55,
   "metadata": {},
   "outputs": [
    {
     "name": "stdout",
     "output_type": "stream",
     "text": [
      "Fitting 5 folds for each of 15 candidates, totalling 75 fits\n"
     ]
    },
    {
     "name": "stderr",
     "output_type": "stream",
     "text": [
      "[Parallel(n_jobs=-1)]: Using backend LokyBackend with 8 concurrent workers.\n",
      "[Parallel(n_jobs=-1)]: Done   2 tasks      | elapsed:    4.4s\n",
      "[Parallel(n_jobs=-1)]: Done   9 tasks      | elapsed:    7.3s\n",
      "[Parallel(n_jobs=-1)]: Done  16 tasks      | elapsed:    8.5s\n",
      "[Parallel(n_jobs=-1)]: Done  25 tasks      | elapsed:   13.0s\n",
      "[Parallel(n_jobs=-1)]: Done  34 tasks      | elapsed:   16.3s\n",
      "[Parallel(n_jobs=-1)]: Done  45 tasks      | elapsed:   20.1s\n",
      "[Parallel(n_jobs=-1)]: Done  56 tasks      | elapsed:   25.1s\n",
      "[Parallel(n_jobs=-1)]: Done  68 out of  75 | elapsed:   29.4s remaining:    3.0s\n",
      "[Parallel(n_jobs=-1)]: Done  75 out of  75 | elapsed:   31.3s finished\n",
      "[Parallel(n_jobs=-1)]: Using backend ThreadingBackend with 8 concurrent workers.\n",
      "[Parallel(n_jobs=-1)]: Done  34 tasks      | elapsed:    0.0s\n",
      "[Parallel(n_jobs=-1)]: Done 184 tasks      | elapsed:    0.2s\n",
      "[Parallel(n_jobs=-1)]: Done 434 tasks      | elapsed:    0.5s\n",
      "[Parallel(n_jobs=-1)]: Done 550 out of 550 | elapsed:    0.7s finished\n"
     ]
    },
    {
     "data": {
      "text/plain": [
       "GridSearchCV(cv=5, error_score=nan,\n",
       "             estimator=RandomForestClassifier(bootstrap=True, ccp_alpha=0.0,\n",
       "                                              class_weight=None,\n",
       "                                              criterion='gini', max_depth=94,\n",
       "                                              max_features='auto',\n",
       "                                              max_leaf_nodes=None,\n",
       "                                              max_samples=None,\n",
       "                                              min_impurity_decrease=0.0,\n",
       "                                              min_impurity_split=None,\n",
       "                                              min_samples_leaf=1,\n",
       "                                              min_samples_split=2,\n",
       "                                              min_weight_fraction_leaf=0.0,\n",
       "                                              n_estimators=550, n_jobs=-1,\n",
       "                                              oob_score=False, random_state=27,\n",
       "                                              verbose=1, warm_start=False),\n",
       "             iid='deprecated', n_jobs=-1,\n",
       "             param_grid={'max_features': ['auto', 'sqrt', 'log2'],\n",
       "                         'max_samples': range(1, 10, 2)},\n",
       "             pre_dispatch='2*n_jobs', refit=True, return_train_score=False,\n",
       "             scoring='roc_auc', verbose=10)"
      ]
     },
     "execution_count": 55,
     "metadata": {},
     "output_type": "execute_result"
    }
   ],
   "source": [
    "clf5 = gsearch4.best_estimator_\n",
    "\n",
    "params4 = {\n",
    "    'max_features':['auto','sqrt','log2'],\n",
    "    'max_samples':range(1,10,2),\n",
    "    \n",
    "}\n",
    "#metrics to consider: f1_micro, f1_macro, roc_auc_ovr\n",
    "gsearch5 = GridSearchCV(estimator = clf5, param_grid = params4, scoring='roc_auc',n_jobs=-1,verbose = 10, cv=5)\n",
    "gsearch5.fit(training_data['X_train'], training_data['Y_train'].reshape(training_data['Y_train'].shape[0],))"
   ]
  },
  {
   "cell_type": "code",
   "execution_count": 56,
   "metadata": {},
   "outputs": [
    {
     "data": {
      "text/plain": [
       "{'best_mean': 0.92855410970429,\n",
       " 'best_param': {'max_features': 'auto', 'max_samples': 3}}"
      ]
     },
     "execution_count": 56,
     "metadata": {},
     "output_type": "execute_result"
    }
   ],
   "source": [
    "getTrainScores(gsearch5)"
   ]
  },
  {
   "cell_type": "code",
   "execution_count": 57,
   "metadata": {},
   "outputs": [
    {
     "name": "stdout",
     "output_type": "stream",
     "text": [
      "Fitting 5 folds for each of 128 candidates, totalling 640 fits\n"
     ]
    },
    {
     "name": "stderr",
     "output_type": "stream",
     "text": [
      "[Parallel(n_jobs=-1)]: Using backend LokyBackend with 8 concurrent workers.\n",
      "[Parallel(n_jobs=-1)]: Done   2 tasks      | elapsed:    1.9s\n",
      "[Parallel(n_jobs=-1)]: Done   9 tasks      | elapsed:    3.2s\n",
      "[Parallel(n_jobs=-1)]: Done  16 tasks      | elapsed:    3.3s\n",
      "[Parallel(n_jobs=-1)]: Done  25 tasks      | elapsed:    5.8s\n",
      "[Parallel(n_jobs=-1)]: Done  34 tasks      | elapsed:    7.1s\n",
      "[Parallel(n_jobs=-1)]: Done  45 tasks      | elapsed:    8.7s\n",
      "[Parallel(n_jobs=-1)]: Done  56 tasks      | elapsed:   10.2s\n",
      "[Parallel(n_jobs=-1)]: Done  69 tasks      | elapsed:   12.7s\n",
      "[Parallel(n_jobs=-1)]: Done  82 tasks      | elapsed:   15.2s\n",
      "[Parallel(n_jobs=-1)]: Done  97 tasks      | elapsed:   21.6s\n",
      "[Parallel(n_jobs=-1)]: Done 112 tasks      | elapsed:   26.2s\n",
      "[Parallel(n_jobs=-1)]: Done 129 tasks      | elapsed:   32.8s\n",
      "[Parallel(n_jobs=-1)]: Done 146 tasks      | elapsed:   38.9s\n",
      "[Parallel(n_jobs=-1)]: Done 165 tasks      | elapsed:   44.4s\n",
      "[Parallel(n_jobs=-1)]: Done 184 tasks      | elapsed:   51.4s\n",
      "[Parallel(n_jobs=-1)]: Done 205 tasks      | elapsed:   58.8s\n",
      "[Parallel(n_jobs=-1)]: Done 226 tasks      | elapsed:  1.1min\n",
      "[Parallel(n_jobs=-1)]: Done 249 tasks      | elapsed:  1.3min\n",
      "[Parallel(n_jobs=-1)]: Done 272 tasks      | elapsed:  1.4min\n",
      "[Parallel(n_jobs=-1)]: Done 297 tasks      | elapsed:  1.5min\n",
      "[Parallel(n_jobs=-1)]: Done 322 tasks      | elapsed:  1.7min\n",
      "[Parallel(n_jobs=-1)]: Done 349 tasks      | elapsed:  1.7min\n",
      "[Parallel(n_jobs=-1)]: Done 376 tasks      | elapsed:  1.8min\n",
      "[Parallel(n_jobs=-1)]: Done 405 tasks      | elapsed:  1.9min\n",
      "[Parallel(n_jobs=-1)]: Done 434 tasks      | elapsed:  2.1min\n",
      "[Parallel(n_jobs=-1)]: Done 465 tasks      | elapsed:  2.3min\n",
      "[Parallel(n_jobs=-1)]: Done 496 tasks      | elapsed:  2.5min\n",
      "[Parallel(n_jobs=-1)]: Done 529 tasks      | elapsed:  2.8min\n",
      "[Parallel(n_jobs=-1)]: Done 562 tasks      | elapsed:  3.0min\n",
      "[Parallel(n_jobs=-1)]: Done 597 tasks      | elapsed:  3.2min\n",
      "[Parallel(n_jobs=-1)]: Done 640 out of 640 | elapsed:  3.5min finished\n",
      "[Parallel(n_jobs=-1)]: Using backend ThreadingBackend with 8 concurrent workers.\n",
      "[Parallel(n_jobs=-1)]: Done  34 tasks      | elapsed:    0.1s\n",
      "[Parallel(n_jobs=-1)]: Done 184 tasks      | elapsed:    0.2s\n",
      "[Parallel(n_jobs=-1)]: Done 434 tasks      | elapsed:    0.6s\n",
      "[Parallel(n_jobs=-1)]: Done 550 out of 550 | elapsed:    0.7s finished\n"
     ]
    },
    {
     "data": {
      "text/plain": [
       "GridSearchCV(cv=5, error_score=nan,\n",
       "             estimator=RandomForestClassifier(bootstrap=True, ccp_alpha=0.0,\n",
       "                                              class_weight=None,\n",
       "                                              criterion='gini', max_depth=94,\n",
       "                                              max_features='auto',\n",
       "                                              max_leaf_nodes=None,\n",
       "                                              max_samples=3,\n",
       "                                              min_impurity_decrease=0.0,\n",
       "                                              min_impurity_split=None,\n",
       "                                              min_samples_leaf=1,\n",
       "                                              min_samples_split=2,\n",
       "                                              min_weight_fraction_leaf=0.0,\n",
       "                                              n_estimators=550, n_jobs=-1,\n",
       "                                              oob_score=False, random_state=27,\n",
       "                                              verbose=1, warm_start=False),\n",
       "             iid='deprecated', n_jobs=-1,\n",
       "             param_grid={'class_weight': ['balanced', 'balanced_subsample'],\n",
       "                         'max_leaf_nodes': range(1, 5),\n",
       "                         'min_samples_leaf': range(1, 5),\n",
       "                         'min_samples_split': range(1, 5)},\n",
       "             pre_dispatch='2*n_jobs', refit=True, return_train_score=False,\n",
       "             scoring='roc_auc', verbose=10)"
      ]
     },
     "execution_count": 57,
     "metadata": {},
     "output_type": "execute_result"
    }
   ],
   "source": [
    "clf6 = gsearch5.best_estimator_\n",
    "\n",
    "params5 = {\n",
    "    'class_weight':['balanced', 'balanced_subsample'],\n",
    "    'max_leaf_nodes':range(1,5,1),\n",
    "    'min_samples_split':range(1,5,1),\n",
    "    'min_samples_leaf':range(1,5,1)\n",
    "    \n",
    "}\n",
    "#metrics to consider: f1_micro, f1_macro, roc_auc_ovr\n",
    "gsearch6 = GridSearchCV(estimator = clf6, param_grid = params5, scoring='roc_auc',n_jobs=-1,verbose = 10, cv=5)\n",
    "gsearch6.fit(training_data['X_train'], training_data['Y_train'].reshape(training_data['Y_train'].shape[0],))"
   ]
  },
  {
   "cell_type": "code",
   "execution_count": 58,
   "metadata": {},
   "outputs": [
    {
     "data": {
      "text/plain": [
       "{'best_mean': 0.9304907582320429,\n",
       " 'best_param': {'class_weight': 'balanced',\n",
       "  'max_leaf_nodes': 3,\n",
       "  'min_samples_leaf': 1,\n",
       "  'min_samples_split': 3}}"
      ]
     },
     "execution_count": 58,
     "metadata": {},
     "output_type": "execute_result"
    }
   ],
   "source": [
    "getTrainScores(gsearch6)"
   ]
  },
  {
   "cell_type": "code",
   "execution_count": 82,
   "metadata": {},
   "outputs": [
    {
     "name": "stderr",
     "output_type": "stream",
     "text": [
      "[Parallel(n_jobs=8)]: Using backend ThreadingBackend with 8 concurrent workers.\n",
      "[Parallel(n_jobs=8)]: Done  34 tasks      | elapsed:    0.0s\n",
      "[Parallel(n_jobs=8)]: Done 184 tasks      | elapsed:    0.1s\n"
     ]
    },
    {
     "name": "stdout",
     "output_type": "stream",
     "text": [
      "CLF 5 roc: 0.9146825396825398\n",
      "CLF 5 acc: 0.9766177270255574\n",
      "CLF 5 f1: 0.9067245119305857\n"
     ]
    },
    {
     "name": "stderr",
     "output_type": "stream",
     "text": [
      "[Parallel(n_jobs=8)]: Done 434 tasks      | elapsed:    0.4s\n",
      "[Parallel(n_jobs=8)]: Done 550 out of 550 | elapsed:    0.5s finished\n"
     ]
    }
   ],
   "source": [
    "clf7 = gsearch6.best_estimator_\n",
    "\n",
    "predicted_labels = clf5.predict(training_data['X_test'])\n",
    "print(\"CLF 5 roc: \"+str(roc_auc_score(training_data['Y_test'], predicted_labels)))\n",
    "print(\"CLF 5 acc: \"+str(accuracy_score(training_data['Y_test'], predicted_labels)))\n",
    "print(\"CLF 5 f1: \"+str(f1_score(training_data['Y_test'], predicted_labels)))"
   ]
  },
  {
   "cell_type": "code",
   "execution_count": 83,
   "metadata": {},
   "outputs": [
    {
     "name": "stderr",
     "output_type": "stream",
     "text": [
      "[Parallel(n_jobs=8)]: Using backend ThreadingBackend with 8 concurrent workers.\n",
      "[Parallel(n_jobs=8)]: Done  34 tasks      | elapsed:    0.0s\n",
      "[Parallel(n_jobs=8)]: Done 184 tasks      | elapsed:    0.1s\n"
     ]
    },
    {
     "name": "stdout",
     "output_type": "stream",
     "text": [
      "CLF 4 roc: 0.9146825396825398\n",
      "CLF 4 acc: 0.9766177270255574\n",
      "CLF 4 f1: 0.9067245119305857\n"
     ]
    },
    {
     "name": "stderr",
     "output_type": "stream",
     "text": [
      "[Parallel(n_jobs=8)]: Done 434 tasks      | elapsed:    0.4s\n",
      "[Parallel(n_jobs=8)]: Done 550 out of 550 | elapsed:    0.5s finished\n"
     ]
    }
   ],
   "source": [
    "predicted_labels = clf4.predict(training_data['X_test'])\n",
    "print(\"CLF 4 roc: \"+str(roc_auc_score(training_data['Y_test'], predicted_labels)))\n",
    "print(\"CLF 4 acc: \"+str(accuracy_score(training_data['Y_test'], predicted_labels)))\n",
    "print(\"CLF 4 f1: \"+str(f1_score(training_data['Y_test'], predicted_labels)))"
   ]
  },
  {
   "cell_type": "code",
   "execution_count": 80,
   "metadata": {},
   "outputs": [
    {
     "data": {
      "text/plain": [
       "RandomForestClassifier(bootstrap=True, ccp_alpha=0.0, class_weight=None,\n",
       "                       criterion='gini', max_depth=94, max_features='auto',\n",
       "                       max_leaf_nodes=None, max_samples=None,\n",
       "                       min_impurity_decrease=0.0, min_impurity_split=None,\n",
       "                       min_samples_leaf=1, min_samples_split=2,\n",
       "                       min_weight_fraction_leaf=0.0, n_estimators=550,\n",
       "                       n_jobs=-1, oob_score=False, random_state=27, verbose=1,\n",
       "                       warm_start=False)"
      ]
     },
     "execution_count": 80,
     "metadata": {},
     "output_type": "execute_result"
    }
   ],
   "source": [
    "clf4"
   ]
  },
  {
   "cell_type": "code",
   "execution_count": 81,
   "metadata": {},
   "outputs": [
    {
     "data": {
      "text/plain": [
       "RandomForestClassifier(bootstrap=True, ccp_alpha=0.0, class_weight=None,\n",
       "                       criterion='gini', max_depth=94, max_features='auto',\n",
       "                       max_leaf_nodes=None, max_samples=None,\n",
       "                       min_impurity_decrease=0.0, min_impurity_split=None,\n",
       "                       min_samples_leaf=1, min_samples_split=2,\n",
       "                       min_weight_fraction_leaf=0.0, n_estimators=550,\n",
       "                       n_jobs=-1, oob_score=False, random_state=27, verbose=1,\n",
       "                       warm_start=False)"
      ]
     },
     "execution_count": 81,
     "metadata": {},
     "output_type": "execute_result"
    }
   ],
   "source": [
    "clf5"
   ]
  },
  {
   "cell_type": "code",
   "execution_count": null,
   "metadata": {},
   "outputs": [],
   "source": []
  }
 ],
 "metadata": {
  "kernelspec": {
   "display_name": "Python 3",
   "language": "python",
   "name": "python3"
  },
  "language_info": {
   "codemirror_mode": {
    "name": "ipython",
    "version": 3
   },
   "file_extension": ".py",
   "mimetype": "text/x-python",
   "name": "python",
   "nbconvert_exporter": "python",
   "pygments_lexer": "ipython3",
   "version": "3.7.6"
  }
 },
 "nbformat": 4,
 "nbformat_minor": 4
}
